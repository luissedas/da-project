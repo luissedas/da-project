{
 "cells": [
  {
   "cell_type": "markdown",
   "metadata": {},
   "source": [
    "# Data Wrangling\n",
    "In this notebook we transform the original data to the appropriate structure, by making transformations, creating new variables, dropping variables and correcting missing values.\n",
    "\n",
    "The database has 15781 registers"
   ]
  },
  {
   "cell_type": "code",
   "execution_count": 1,
   "metadata": {},
   "outputs": [],
   "source": [
    "#Libraries\n",
    "import pandas as pd                  # Data Manipulation\n",
    "import numpy as np                   # Matrices support\n",
    "import matplotlib.pyplot as plt      # Plotting\n",
    "import seaborn as sns                # Statistical Visualization\n",
    "from matplotlib import cm\n",
    "from scipy import stats\n",
    "from numpy.polynomial.polynomial import polyfit\n",
    "from random import randint\n",
    "import math"
   ]
  },
  {
   "cell_type": "code",
   "execution_count": 2,
   "metadata": {},
   "outputs": [],
   "source": [
    "data = pd.read_excel('201713_ECOAS_Anonimizado.xlsx')"
   ]
  },
  {
   "cell_type": "markdown",
   "metadata": {},
   "source": [
    "## Drops variables\n",
    "Multiple columns have only one value or are of no interest"
   ]
  },
  {
   "cell_type": "code",
   "execution_count": 3,
   "metadata": {},
   "outputs": [],
   "source": [
    "drop_variables = ['Ejercicio','Grupo Virtual','Crn UV']\n",
    "data = data.drop(drop_variables,axis=1)"
   ]
  },
  {
   "cell_type": "markdown",
   "metadata": {},
   "source": [
    "## Replace nan with 0s\n",
    "Now that we have the useful variables, we are going to give them the appropriate format."
   ]
  },
  {
   "cell_type": "code",
   "execution_count": 4,
   "metadata": {},
   "outputs": [],
   "source": [
    "#Replace nan values of multiple columns to 0s\n",
    "nan_list = ['Tesis en título','Book','Book Series','Conference Proceeding','Journal Q1/Q2','Journal Q3/Q4','Total Docs','Book Norm.',\n",
    "            'Book Series Norm.','Conference Proceeding Norm.','Journal Q1/Q2 Norm.','Journal Q3/Q4 Norm.',\n",
    "            'Total Docs. Norm.']\n",
    "\n",
    "for index,value in enumerate(nan_list):\n",
    "    data[value] = data[value].fillna(0)"
   ]
  },
  {
   "cell_type": "markdown",
   "metadata": {},
   "source": [
    "## Rename variables"
   ]
  },
  {
   "cell_type": "code",
   "execution_count": 5,
   "metadata": {},
   "outputs": [],
   "source": [
    "#Renames variables\n",
    "data.rename(columns = {'ID_Prof':'ID'}, inplace = True)\n",
    "data.rename(columns = {'Rectoría del Campus':'rectoria'}, inplace = True)\n",
    "data.rename(columns = {'Campus':'campus'}, inplace = True)\n",
    "data.rename(columns = {'División':'division'}, inplace = True)\n",
    "data.rename(columns = {'Departamento':'department'}, inplace = True)\n",
    "data.rename(columns = {'Tesis en título':'thesis'}, inplace = True)\n",
    "data.rename(columns = {'Número de Grupo':'num_grup'}, inplace = True)\n",
    "data.rename(columns = {'Categoría Laboral':'cat_lab'}, inplace = True)\n",
    "data.rename(columns = {'Puesto (Escolar)':'cat_escolar'}, inplace = True)\n",
    "data.rename(columns = {'Puesto (RH)':'cat_rh'}, inplace = True)\n",
    "data.rename(columns = {'Nacionalidad':'nationality'}, inplace = True)\n",
    "data.rename(columns = {'Género':'gender'}, inplace = True)\n",
    "data.rename(columns = {'Edad al semestre':'age'}, inplace = True)\n",
    "data.rename(columns = {'Años de Antigüedad':'antiguedad'}, inplace = True)\n",
    "data.rename(columns = {'Grado Máximo Prof':'degree'}, inplace = True)\n",
    "data.rename(columns = {'Estatus PDHD (Habilidades Docentes)':'pdhd'}, inplace = True)\n",
    "data.rename(columns = {'Semestres Experiencia':'experience'}, inplace = True)\n",
    "\n",
    "data.rename(columns = {'Escuela Nacional Disciplina':'school_national'}, inplace = True)\n",
    "data.rename(columns = {'Escuela GIEE':'school_giee'}, inplace = True)\n",
    "data.rename(columns = {'Giee':'giee'}, inplace = True)\n",
    "data.rename(columns = {'Participación en GIEE':'giee_role'}, inplace = True)\n",
    "data.rename(columns = {'Nivel SNI 2019':'SNI'}, inplace = True)\n",
    "data.rename(columns = {'Porcentaje responsabilidad prof. grupo':'percentage_responsability'}, inplace = True)\n",
    "data.rename(columns = {'Nivel materia':'level'}, inplace = True)\n",
    "data.rename(columns = {'Indicador grupo terminal':'terminal_group'}, inplace = True)\n",
    "data.rename(columns = {'Atributos grupo':'course_attributes'}, inplace = True)\n",
    "data.rename(columns = {'# Multicampus':'multicampus'}, inplace = True)\n",
    "data.rename(columns = {'Profesor Titular':'main_professor'}, inplace = True)\n",
    "data.rename(columns = {'Alumnos Candidatos':'seniors'}, inplace = True)\n",
    "data.rename(columns = {'Alumnos que Opinaron':'opinions'}, inplace = True)\n",
    "data.rename(columns = {'Participación (%)':'participation'}, inplace = True)\n",
    "data.rename(columns = {'Horas Equivalentes Frente al Grupo':'teach_hours'}, inplace = True)\n",
    "data.rename(columns = {'Horas clase':'lecture_hours'}, inplace = True)\n",
    "data.rename(columns = {'Horas laboratorio':'lab_hours'}, inplace = True)\n",
    "data.rename(columns = {'Unidades Equivalentes':'credits'}, inplace = True)\n",
    "\n",
    "#40-48\n",
    "data.rename(columns = {'05 #Op':'05num','05 Prom':'05avg','05 Desv':'05std','06 #Op':'06num','06 Prom':'06avg','06 Desv':'06std','08 #Op':'08num','08 Prom':'08avg','08 Desv':'08std'},inplace=True)\n",
    "\n",
    "data.rename(columns = {'Book':'books'}, inplace = True)\n",
    "data.rename(columns = {'Book Series':'bseries'}, inplace = True)\n",
    "data.rename(columns = {'Conference Proceeding':'proceedings'}, inplace = True)\n",
    "data.rename(columns = {'Journal Q1/Q2':'journal_q1q2'}, inplace = True)\n",
    "data.rename(columns = {'Journal Q3/Q4':'journal_q3q4'}, inplace = True)\n",
    "data.rename(columns = {'Total Docs':'total'}, inplace = True)\n",
    "data.rename(columns = {'Book Norm.':'books_norm'}, inplace = True)\n",
    "data.rename(columns = {'Book Series Norm.':'bseries_norm'}, inplace = True)\n",
    "data.rename(columns = {'Conference Proceeding Norm.':'proceedings_norm'}, inplace = True)\n",
    "data.rename(columns = {'Journal Q1/Q2 Norm.':'journal_q1q2_norm'}, inplace = True)\n",
    "data.rename(columns = {'Journal Q3/Q4 Norm.':'journal_q1q2_norm'}, inplace = True)\n",
    "data.rename(columns = {'Total Docs. Norm.':'total_norm'}, inplace = True)\n"
   ]
  },
  {
   "cell_type": "markdown",
   "metadata": {},
   "source": [
    "# Drop data\n",
    "Drop subjects marked as thesis"
   ]
  },
  {
   "cell_type": "code",
   "execution_count": 6,
   "metadata": {},
   "outputs": [],
   "source": [
    "data = data[data['thesis']!=1].reset_index(drop=True)\n",
    "data = data.drop(['thesis'],axis=1)"
   ]
  },
  {
   "cell_type": "markdown",
   "metadata": {},
   "source": [
    "## Create variables"
   ]
  },
  {
   "cell_type": "markdown",
   "metadata": {},
   "source": [
    "## sni_yn"
   ]
  },
  {
   "cell_type": "code",
   "execution_count": 7,
   "metadata": {},
   "outputs": [],
   "source": [
    "#Creates a count table of sni levels \n",
    "sni = data[['SNI','ID']].groupby(['SNI'],as_index=False).count()\n",
    "sni['percentage'] = sni['ID']/len(data)*100\n",
    "\n",
    "#10% of profesors are reseearchers (SNI). So we create a variable named sni_yn (sni yes or no)\n",
    "a = [];\n",
    "num = data['SNI'].isnull()*1\n",
    "for index,value in enumerate(num):\n",
    "    if value == 0:\n",
    "        a.append('SNI')\n",
    "    else:\n",
    "        a.append('NO SNI')\n",
    "data['sni_yn'] = a                                                                  #Creates the new variable"
   ]
  },
  {
   "cell_type": "markdown",
   "metadata": {},
   "source": [
    "## calif"
   ]
  },
  {
   "cell_type": "code",
   "execution_count": 8,
   "metadata": {},
   "outputs": [],
   "source": [
    "#Creates the variable \"calif\" which is the average of the answers of the questions in the survery\n",
    "data['score'] = (data['05avg'] + data['06avg'] + data['08avg'])/3"
   ]
  },
  {
   "cell_type": "markdown",
   "metadata": {},
   "source": [
    "## under_yn"
   ]
  },
  {
   "cell_type": "code",
   "execution_count": 9,
   "metadata": {},
   "outputs": [],
   "source": [
    "#Creates the variable \"under_yn\" which classifies if a class is at undergraduate level or not\n",
    "#We grouped Doctorado, Maestría and Especialidad as Posgrado\n",
    "a = [];\n",
    "for index,value in enumerate(data['level']):\n",
    "    if value == 'Profesional':\n",
    "        a.append('Undergraduate')\n",
    "    elif value == 'Preparatoria':\n",
    "        a.append('Highschool')\n",
    "    else:\n",
    "        a.append('Graduate')\n",
    "data['under_yn'] = a"
   ]
  },
  {
   "cell_type": "markdown",
   "metadata": {},
   "source": [
    "## %Subjects by level"
   ]
  },
  {
   "cell_type": "code",
   "execution_count": 11,
   "metadata": {},
   "outputs": [],
   "source": [
    "# Creates a series of ID and the number of times it appears, that is, the number of classes each professor has\n",
    "counts_id = data.ID.value_counts()"
   ]
  },
  {
   "cell_type": "code",
   "execution_count": 12,
   "metadata": {},
   "outputs": [],
   "source": [
    "# Creates a data frame of the previous series\n",
    "counts_id_df = pd.DataFrame({'ID':counts_id.index,'counts_total':counts_id.values})"
   ]
  },
  {
   "cell_type": "code",
   "execution_count": 14,
   "metadata": {},
   "outputs": [],
   "source": [
    "data = data.merge(counts_id_df, how='left', left_on='ID', right_on='ID')"
   ]
  },
  {
   "cell_type": "markdown",
   "metadata": {},
   "source": [
    "## Graduate courses by professor"
   ]
  },
  {
   "cell_type": "code",
   "execution_count": 16,
   "metadata": {},
   "outputs": [],
   "source": [
    "counts_id_graduate = data[data['under_yn']=='Graduate'].ID.value_counts()"
   ]
  },
  {
   "cell_type": "code",
   "execution_count": 17,
   "metadata": {},
   "outputs": [],
   "source": [
    "counts_id_graduate_df = pd.DataFrame({'ID':counts_id_graduate.index,'counts_graduate':counts_id_graduate.values})"
   ]
  },
  {
   "cell_type": "code",
   "execution_count": 18,
   "metadata": {},
   "outputs": [],
   "source": [
    "data = data.merge(counts_id_graduate_df, how='left', left_on='ID', right_on='ID')"
   ]
  },
  {
   "cell_type": "markdown",
   "metadata": {},
   "source": [
    "## Undergraduate courses by professor"
   ]
  },
  {
   "cell_type": "code",
   "execution_count": 20,
   "metadata": {},
   "outputs": [],
   "source": [
    "counts_id_undergraduate = data[data['under_yn']=='Undergraduate'].ID.value_counts()"
   ]
  },
  {
   "cell_type": "code",
   "execution_count": 21,
   "metadata": {},
   "outputs": [],
   "source": [
    "counts_id_undergraduate_df = pd.DataFrame({'ID':counts_id_undergraduate.index,'counts_undergraduate':counts_id_undergraduate.values})"
   ]
  },
  {
   "cell_type": "code",
   "execution_count": 22,
   "metadata": {},
   "outputs": [],
   "source": [
    "data = data.merge(counts_id_undergraduate_df, how='left', left_on='ID', right_on='ID')"
   ]
  },
  {
   "cell_type": "markdown",
   "metadata": {},
   "source": [
    "## Highschool courses by professor"
   ]
  },
  {
   "cell_type": "code",
   "execution_count": 24,
   "metadata": {},
   "outputs": [],
   "source": [
    "counts_id_highschool = data[data['under_yn']=='Highschool'].ID.value_counts()"
   ]
  },
  {
   "cell_type": "code",
   "execution_count": 25,
   "metadata": {},
   "outputs": [],
   "source": [
    "counts_id_highschool_df = pd.DataFrame({'ID':counts_id_highschool.index,'counts_highschool':counts_id_highschool.values})"
   ]
  },
  {
   "cell_type": "code",
   "execution_count": 26,
   "metadata": {},
   "outputs": [],
   "source": [
    "data = data.merge(counts_id_highschool_df, how='left', left_on='ID', right_on='ID')"
   ]
  },
  {
   "cell_type": "markdown",
   "metadata": {},
   "source": [
    "## Remove nan"
   ]
  },
  {
   "cell_type": "code",
   "execution_count": 29,
   "metadata": {},
   "outputs": [],
   "source": [
    "#Replace nan values of multiple columns to 0s\n",
    "nan_list = ['counts_total','counts_graduate','counts_undergraduate','counts_highschool']\n",
    "\n",
    "for index,value in enumerate(nan_list):\n",
    "    data[value] = data[value].fillna(0)"
   ]
  },
  {
   "cell_type": "markdown",
   "metadata": {},
   "source": [
    "## mxn_yn"
   ]
  },
  {
   "cell_type": "code",
   "execution_count": 37,
   "metadata": {},
   "outputs": [],
   "source": [
    "#Counts the amount of profesors per nationality\n",
    "prof_nacionalidad =  data[['nationality','ID']].groupby(['nationality'],as_index=False).count().sort_values(['ID'],ascending=False)\n",
    "prof_nacionalidad['percentage'] = prof_nacionalidad['ID']/len(data)*100\n",
    "\n",
    "#Because 94% of the professors are mexican, we create a variable named mxn_yn\n",
    "a = [];\n",
    "for index,value in enumerate(data['nationality']):\n",
    "    if value == 'Mexicana':\n",
    "        a.append('Mexican');\n",
    "    else:\n",
    "        a.append('Foreign');\n",
    "data['mxn_yn'] = a        "
   ]
  },
  {
   "cell_type": "code",
   "execution_count": 43,
   "metadata": {},
   "outputs": [],
   "source": [
    "#Changes the data type of colums to categorical\n",
    "data['sni_yn'] = data['sni_yn'].astype('category')\n",
    "data['under_yn'] = data['under_yn'].astype('category')\n",
    "data['mxn_yn'] = data['mxn_yn'].astype('category')\n",
    "data['pdhd'] = data['pdhd'].astype('category')\n",
    "data['gender'] = data['gender'].astype('category')\n",
    "data['terminal_group'] = data['terminal_group'].astype('category')\n",
    "data['main_professor'] = data['main_professor'].astype('category')"
   ]
  }
 ],
 "metadata": {
  "kernelspec": {
   "display_name": "Python 3",
   "language": "python",
   "name": "python3"
  },
  "language_info": {
   "codemirror_mode": {
    "name": "ipython",
    "version": 3
   },
   "file_extension": ".py",
   "mimetype": "text/x-python",
   "name": "python",
   "nbconvert_exporter": "python",
   "pygments_lexer": "ipython3",
   "version": "3.6.8"
  }
 },
 "nbformat": 4,
 "nbformat_minor": 2
}
