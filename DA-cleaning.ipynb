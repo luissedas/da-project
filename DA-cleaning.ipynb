{
 "cells": [
  {
   "cell_type": "code",
   "execution_count": 5,
   "metadata": {},
   "outputs": [],
   "source": [
    "#Libraries\n",
    "import pandas as pd                  # Data Manipulation\n",
    "import numpy as np                   # Matrices support\n",
    "import matplotlib.pyplot as plt      # Plotting\n",
    "import seaborn as sns                # Statistical Visualization\n",
    "from matplotlib import cm\n",
    "from scipy import stats\n",
    "from numpy.polynomial.polynomial import polyfit\n",
    "from random import randint\n",
    "import math"
   ]
  },
  {
   "cell_type": "markdown",
   "metadata": {},
   "source": [
    "# Data Wrangling\n",
    "In this notebook we transform the data to the appropriate formats, by making transformations, creating new variables and correcting missing values.\n",
    "\n",
    "The database has 15781 registers"
   ]
  },
  {
   "cell_type": "code",
   "execution_count": 6,
   "metadata": {},
   "outputs": [],
   "source": [
    "data = pd.read_excel('201713_ECOAS_Anonimizado.xlsx')"
   ]
  },
  {
   "cell_type": "markdown",
   "metadata": {},
   "source": [
    "# Data Validation"
   ]
  },
  {
   "cell_type": "code",
   "execution_count": 7,
   "metadata": {},
   "outputs": [],
   "source": [
    "#The variable 'Crn UV' only contains the value \"No aplica\", so we drop this column\n",
    "data['Crn UV'].unique\n",
    "data = data.drop(['Crn UV'],axis=1)"
   ]
  },
  {
   "cell_type": "code",
   "execution_count": 8,
   "metadata": {},
   "outputs": [
    {
     "name": "stdout",
     "output_type": "stream",
     "text": [
      "  Grupo Virtual  ID_Prof\n",
      "0            NO    15780\n"
     ]
    }
   ],
   "source": [
    "#The variable 'Grupo Virtual' only contains the value \"NO\", so we drop this column \n",
    "print(data[['Grupo Virtual','ID_Prof']].groupby(['Grupo Virtual'],as_index=False).count())\n",
    "data = data.drop(['Grupo Virtual'],axis=1)"
   ]
  },
  {
   "cell_type": "code",
   "execution_count": 10,
   "metadata": {},
   "outputs": [
    {
     "data": {
      "text/html": [
       "<div>\n",
       "<style scoped>\n",
       "    .dataframe tbody tr th:only-of-type {\n",
       "        vertical-align: middle;\n",
       "    }\n",
       "\n",
       "    .dataframe tbody tr th {\n",
       "        vertical-align: top;\n",
       "    }\n",
       "\n",
       "    .dataframe thead th {\n",
       "        text-align: right;\n",
       "    }\n",
       "</style>\n",
       "<table border=\"1\" class=\"dataframe\">\n",
       "  <thead>\n",
       "    <tr style=\"text-align: right;\">\n",
       "      <th></th>\n",
       "      <th>Tesis en título</th>\n",
       "      <th>ID_Prof</th>\n",
       "      <th>porcentaje</th>\n",
       "    </tr>\n",
       "  </thead>\n",
       "  <tbody>\n",
       "    <tr>\n",
       "      <th>0</th>\n",
       "      <td>0.0</td>\n",
       "      <td>15236</td>\n",
       "      <td>96.54648</td>\n",
       "    </tr>\n",
       "    <tr>\n",
       "      <th>1</th>\n",
       "      <td>1.0</td>\n",
       "      <td>545</td>\n",
       "      <td>3.45352</td>\n",
       "    </tr>\n",
       "  </tbody>\n",
       "</table>\n",
       "</div>"
      ],
      "text/plain": [
       "   Tesis en título  ID_Prof  porcentaje\n",
       "0              0.0    15236    96.54648\n",
       "1              1.0      545     3.45352"
      ]
     },
     "execution_count": 10,
     "metadata": {},
     "output_type": "execute_result"
    }
   ],
   "source": [
    "# Replace the nan values of the column \"Tesis en título\" with 0s\n",
    "data['Tesis en título'] = data['Tesis en título'].fillna(0)\n",
    "tesis = data[['Tesis en título','ID_Prof']].groupby(['Tesis en título'],as_index=False).count()\n",
    "tesis['porcentaje'] = tesis['ID_Prof']/len(data)*100\n",
    "tesis.head()"
   ]
  },
  {
   "cell_type": "code",
   "execution_count": 11,
   "metadata": {},
   "outputs": [],
   "source": [
    "#Replace nan values of multiple columns to 0s\n",
    "nan_list = ['Book','Book Series','Conference Proceeding','Journal Q1/Q2','Journal Q3/Q4','Total Docs','Book Norm.',\n",
    "            'Book Series Norm.','Conference Proceeding Norm.','Journal Q1/Q2 Norm.','Journal Q3/Q4 Norm.',\n",
    "            'Total Docs. Norm.']\n",
    "\n",
    "for index,value in enumerate(nan_list):\n",
    "    data[value] = data[value].fillna(0)"
   ]
  },
  {
   "cell_type": "code",
   "execution_count": 12,
   "metadata": {},
   "outputs": [
    {
     "name": "stdout",
     "output_type": "stream",
     "text": [
      "  SNI  ID_Prof  porcentaje\n",
      "0   1      827    5.240479\n",
      "1   2      272    1.723592\n",
      "2   3       95    0.601990\n",
      "3   C      338    2.141816\n"
     ]
    }
   ],
   "source": [
    "#Creates the variable sni_sn\n",
    "data.rename(columns = {'Nivel SNI 2019':'SNI'}, inplace = True)                     #Changes the name of the column \"Nivel SNI 2019\" to \"SNI\"\n",
    "\n",
    "sni = data[['SNI','ID_Prof']].groupby(['SNI'],as_index=False).count()\n",
    "sni['porcentaje'] = sni['ID_Prof']/len(data)*100\n",
    "print(sni.head())                                                                   #Table of the quantity of SNIs by level\n",
    "\n",
    "#10% of profesors are reseearchers. So we create a bariable named sni_sn\n",
    "a = [];\n",
    "num = data['SNI'].isnull()*1\n",
    "for index,value in enumerate(num):\n",
    "    if value == 0:\n",
    "        a.append('SNI')\n",
    "    else:\n",
    "        a.append('NO SNI')\n",
    "data['sni_sn'] = a   "
   ]
  },
  {
   "cell_type": "code",
   "execution_count": 13,
   "metadata": {},
   "outputs": [],
   "source": [
    "#Creates the variable \"calif\" which is the average of the answers of the questions in the survery\n",
    "data['calif'] = (data['05 Prom'] + data['05 Prom'] + data['05 Prom'])/3"
   ]
  },
  {
   "cell_type": "code",
   "execution_count": 14,
   "metadata": {},
   "outputs": [
    {
     "data": {
      "text/html": [
       "<div>\n",
       "<style scoped>\n",
       "    .dataframe tbody tr th:only-of-type {\n",
       "        vertical-align: middle;\n",
       "    }\n",
       "\n",
       "    .dataframe tbody tr th {\n",
       "        vertical-align: top;\n",
       "    }\n",
       "\n",
       "    .dataframe thead th {\n",
       "        text-align: right;\n",
       "    }\n",
       "</style>\n",
       "<table border=\"1\" class=\"dataframe\">\n",
       "  <thead>\n",
       "    <tr style=\"text-align: right;\">\n",
       "      <th></th>\n",
       "      <th>prof_sn</th>\n",
       "      <th>ID_Prof</th>\n",
       "      <th>porcentaje</th>\n",
       "    </tr>\n",
       "  </thead>\n",
       "  <tbody>\n",
       "    <tr>\n",
       "      <th>0</th>\n",
       "      <td>Posgrado</td>\n",
       "      <td>871</td>\n",
       "      <td>5.519295</td>\n",
       "    </tr>\n",
       "    <tr>\n",
       "      <th>1</th>\n",
       "      <td>Preparatoria</td>\n",
       "      <td>184</td>\n",
       "      <td>1.165959</td>\n",
       "    </tr>\n",
       "    <tr>\n",
       "      <th>2</th>\n",
       "      <td>Profesional</td>\n",
       "      <td>14726</td>\n",
       "      <td>93.314746</td>\n",
       "    </tr>\n",
       "  </tbody>\n",
       "</table>\n",
       "</div>"
      ],
      "text/plain": [
       "        prof_sn  ID_Prof  porcentaje\n",
       "0      Posgrado      871    5.519295\n",
       "1  Preparatoria      184    1.165959\n",
       "2   Profesional    14726   93.314746"
      ]
     },
     "execution_count": 14,
     "metadata": {},
     "output_type": "execute_result"
    }
   ],
   "source": [
    "#Creates the variable \"prof_sn\" which classifies if a class is at undergraduate level or not\n",
    "a = [];\n",
    "for index,value in enumerate(data['Nivel materia']):\n",
    "    if value == 'Profesional':\n",
    "        a.append('Profesional')\n",
    "    elif value == 'Preparatoria':\n",
    "        a.append('Preparatoria')\n",
    "    else:\n",
    "        a.append('Posgrado')\n",
    "data['prof_sn'] = a\n",
    "\n",
    "profesional = data[['prof_sn','ID_Prof']].groupby(['prof_sn'],as_index=False).count()\n",
    "profesional['porcentaje'] = profesional['ID_Prof']/len(data)*100\n",
    "profesional"
   ]
  },
  {
   "cell_type": "code",
   "execution_count": 15,
   "metadata": {},
   "outputs": [
    {
     "data": {
      "text/html": [
       "<div>\n",
       "<style scoped>\n",
       "    .dataframe tbody tr th:only-of-type {\n",
       "        vertical-align: middle;\n",
       "    }\n",
       "\n",
       "    .dataframe tbody tr th {\n",
       "        vertical-align: top;\n",
       "    }\n",
       "\n",
       "    .dataframe thead th {\n",
       "        text-align: right;\n",
       "    }\n",
       "</style>\n",
       "<table border=\"1\" class=\"dataframe\">\n",
       "  <thead>\n",
       "    <tr style=\"text-align: right;\">\n",
       "      <th></th>\n",
       "      <th>Nacionalidad</th>\n",
       "      <th>ID_Prof</th>\n",
       "      <th>porcentaje</th>\n",
       "    </tr>\n",
       "  </thead>\n",
       "  <tbody>\n",
       "    <tr>\n",
       "      <th>34</th>\n",
       "      <td>Mexicana</td>\n",
       "      <td>14866</td>\n",
       "      <td>94.201888</td>\n",
       "    </tr>\n",
       "    <tr>\n",
       "      <th>21</th>\n",
       "      <td>Estadounidense</td>\n",
       "      <td>122</td>\n",
       "      <td>0.773082</td>\n",
       "    </tr>\n",
       "    <tr>\n",
       "      <th>20</th>\n",
       "      <td>Española</td>\n",
       "      <td>88</td>\n",
       "      <td>0.557633</td>\n",
       "    </tr>\n",
       "    <tr>\n",
       "      <th>30</th>\n",
       "      <td>Italiana</td>\n",
       "      <td>74</td>\n",
       "      <td>0.468918</td>\n",
       "    </tr>\n",
       "    <tr>\n",
       "      <th>11</th>\n",
       "      <td>Colombiana</td>\n",
       "      <td>68</td>\n",
       "      <td>0.430898</td>\n",
       "    </tr>\n",
       "  </tbody>\n",
       "</table>\n",
       "</div>"
      ],
      "text/plain": [
       "      Nacionalidad  ID_Prof  porcentaje\n",
       "34        Mexicana    14866   94.201888\n",
       "21  Estadounidense      122    0.773082\n",
       "20        Española       88    0.557633\n",
       "30        Italiana       74    0.468918\n",
       "11      Colombiana       68    0.430898"
      ]
     },
     "execution_count": 15,
     "metadata": {},
     "output_type": "execute_result"
    }
   ],
   "source": [
    "#Counts the amount of profesors per nationality\n",
    "prof_nacionalidad =  data[['Nacionalidad','ID_Prof']].groupby(['Nacionalidad'],as_index=False).count().sort_values(['ID_Prof'],ascending=False)\n",
    "prof_nacionalidad['porcentaje'] = prof_nacionalidad['ID_Prof']/len(data)*100\n",
    "prof_nacionalidad.head()"
   ]
  },
  {
   "cell_type": "code",
   "execution_count": 17,
   "metadata": {},
   "outputs": [],
   "source": [
    "#Creates the variables \"mxn_sn\" because there are 56 different nationalities\n",
    "a = [];\n",
    "for index,value in enumerate(data['Nacionalidad']):\n",
    "    if value == 'Mexicana':\n",
    "        a.append('Mexicano');\n",
    "    else:\n",
    "        a.append('Extranjero');\n",
    "data['mxn_sn'] = a        "
   ]
  },
  {
   "cell_type": "code",
   "execution_count": 18,
   "metadata": {},
   "outputs": [],
   "source": [
    "#Changes the data type of colums to categorical\n",
    "data['sni_sn'] = data['sni_sn'].astype('category')\n",
    "data['prof_sn'] = data['prof_sn'].astype('category')\n",
    "data['mxn_sn'] = data['mxn_sn'].astype('category')"
   ]
  },
  {
   "cell_type": "code",
   "execution_count": null,
   "metadata": {},
   "outputs": [],
   "source": []
  },
  {
   "cell_type": "code",
   "execution_count": null,
   "metadata": {},
   "outputs": [],
   "source": []
  }
 ],
 "metadata": {
  "kernelspec": {
   "display_name": "Python 3",
   "language": "python",
   "name": "python3"
  },
  "language_info": {
   "codemirror_mode": {
    "name": "ipython",
    "version": 3
   },
   "file_extension": ".py",
   "mimetype": "text/x-python",
   "name": "python",
   "nbconvert_exporter": "python",
   "pygments_lexer": "ipython3",
   "version": "3.6.8"
  }
 },
 "nbformat": 4,
 "nbformat_minor": 2
}
