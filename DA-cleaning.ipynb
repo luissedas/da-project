{
 "cells": [
  {
   "cell_type": "code",
   "execution_count": 50,
   "metadata": {},
   "outputs": [],
   "source": [
    "#Libraries\n",
    "import pandas as pd                  # Data Manipulation\n",
    "import numpy as np                   # Matrices support\n",
    "import matplotlib.pyplot as plt      # Plotting\n",
    "import seaborn as sns                # Statistical Visualization\n",
    "from matplotlib import cm\n",
    "from scipy import stats\n",
    "from numpy.polynomial.polynomial import polyfit\n",
    "from random import randint\n",
    "import math"
   ]
  },
  {
   "cell_type": "markdown",
   "metadata": {},
   "source": [
    "# Data Wrangling\n",
    "In this notebook we transform the original data to the appropriate structure, by making transformations, creating new variables, dropping variables and correcting missing values.\n",
    "\n",
    "The database has 15781 registers"
   ]
  },
  {
   "cell_type": "code",
   "execution_count": 68,
   "metadata": {},
   "outputs": [],
   "source": [
    "data = pd.read_excel('201713_ECOAS_Anonimizado.xlsx')"
   ]
  },
  {
   "cell_type": "markdown",
   "metadata": {},
   "source": [
    "# Data Validation\n",
    "Multiple columns have only one value or are of no interest"
   ]
  },
  {
   "cell_type": "code",
   "execution_count": 69,
   "metadata": {},
   "outputs": [],
   "source": [
    "drop_variables = ['Ejercicio','Grupo Virtual','Crn UV']\n",
    "data = data.drop(drop_variables,axis=1)"
   ]
  },
  {
   "cell_type": "markdown",
   "metadata": {},
   "source": [
    "Now that we have the useful variables, we are going to give them the appropriate format."
   ]
  },
  {
   "cell_type": "code",
   "execution_count": 71,
   "metadata": {},
   "outputs": [],
   "source": [
    "#Replace nan values of multiple columns to 0s\n",
    "nan_list = ['Tesis en título','Book','Book Series','Conference Proceeding','Journal Q1/Q2','Journal Q3/Q4','Total Docs','Book Norm.',\n",
    "            'Book Series Norm.','Conference Proceeding Norm.','Journal Q1/Q2 Norm.','Journal Q3/Q4 Norm.',\n",
    "            'Total Docs. Norm.']\n",
    "\n",
    "for index,value in enumerate(nan_list):\n",
    "    data[value] = data[value].fillna(0)"
   ]
  },
  {
   "cell_type": "markdown",
   "metadata": {},
   "source": [
    "## Creation of variables"
   ]
  },
  {
   "cell_type": "code",
   "execution_count": 73,
   "metadata": {},
   "outputs": [],
   "source": [
    "#Renames variables\n",
    "data.rename(columns = {'ID_Prof':'ID'}, inplace = True)\n",
    "data.rename(columns = {'Nivel SNI 2019':'SNI'}, inplace = True)\n",
    "data.rename(columns = {'05 #Op':'05num','05 Prom':'05avg','05 Desv':'05std','06 #Op':'06num','06 Prom':'06avg','06 Desv':'06std','08 #Op':'08num','08 Prom':'08avg','08 Desv':'08std'},inplace=True)\n",
    "data.rename(columns = {'Semestres Experiencia':'experience'}, inplace = True)\n",
    "data.rename(columns = {'Edad al semestre':'age'}, inplace = True)\n",
    "data.rename(columns = {'Grado Máximo Prof':'grado'}, inplace = True)\n"
   ]
  },
  {
   "cell_type": "code",
   "execution_count": 74,
   "metadata": {},
   "outputs": [],
   "source": [
    "#Creates the variable sni_yn\n",
    "data.rename(columns = {'Nivel SNI 2019':'SNI'}, inplace = True)                     #Changes the name of the column \"Nivel SNI 2019\" to \"SNI\"\n",
    "\n",
    "#Creates a count table of sni levels \n",
    "sni = data[['SNI','ID']].groupby(['SNI'],as_index=False).count()\n",
    "sni['percentage'] = sni['ID']/len(data)*100\n",
    "\n",
    "#10% of profesors are reseearchers (SNI). So we create a variable named sni_yn (sni yes or no)\n",
    "a = [];\n",
    "num = data['SNI'].isnull()*1\n",
    "for index,value in enumerate(num):\n",
    "    if value == 0:\n",
    "        a.append('SNI')\n",
    "    else:\n",
    "        a.append('NO SNI')\n",
    "data['sni_yn'] = a                                                                  #Creates the new variable"
   ]
  },
  {
   "cell_type": "code",
   "execution_count": 75,
   "metadata": {},
   "outputs": [],
   "source": [
    "#Creates the variable \"calif\" which is the average of the answers of the questions in the survery\n",
    "data['score'] = (data['05avg'] + data['06avg'] + data['08avg'])/3"
   ]
  },
  {
   "cell_type": "code",
   "execution_count": 76,
   "metadata": {},
   "outputs": [],
   "source": [
    "#Creates the variable \"under_yn\" which classifies if a class is at undergraduate level or not\n",
    "#We grouped Doctorado, Maestría and Especialidad as Posgrado\n",
    "a = [];\n",
    "for index,value in enumerate(data['Nivel materia']):\n",
    "    if value == 'Profesional':\n",
    "        a.append('Undergraduate')\n",
    "    elif value == 'Preparatoria':\n",
    "        a.append('Highschool')\n",
    "    else:\n",
    "        a.append('Graduate')\n",
    "data['under_yn'] = a\n",
    "\n",
    "#Creates a count table of the class leve\n",
    "profesional = data[['under_yn','ID']].groupby(['under_yn'],as_index=False).count()\n",
    "profesional['percentage'] = profesional['ID']/len(data)*100"
   ]
  },
  {
   "cell_type": "code",
   "execution_count": 77,
   "metadata": {},
   "outputs": [],
   "source": [
    "#Counts the amount of profesors per nationality\n",
    "prof_nacionalidad =  data[['Nacionalidad','ID']].groupby(['Nacionalidad'],as_index=False).count().sort_values(['ID'],ascending=False)\n",
    "prof_nacionalidad['percentage'] = prof_nacionalidad['ID']/len(data)*100\n",
    "\n",
    "#Because 94% of the professors are mexican, we create a variable named mxn_yn\n",
    "a = [];\n",
    "for index,value in enumerate(data['Nacionalidad']):\n",
    "    if value == 'Mexicana':\n",
    "        a.append('Mexican');\n",
    "    else:\n",
    "        a.append('Foreign');\n",
    "data['mxn_yn'] = a        "
   ]
  },
  {
   "cell_type": "code",
   "execution_count": 78,
   "metadata": {},
   "outputs": [],
   "source": [
    "#Changes the data type of colums to categorical\n",
    "data['sni_yn'] = data['sni_yn'].astype('category')\n",
    "data['under_yn'] = data['under_yn'].astype('category')\n",
    "data['mxn_yn'] = data['mxn_yn'].astype('category')\n",
    "data['Estatus PDHD (Habilidades Docentes)'] = data['Estatus PDHD (Habilidades Docentes)'].astype('category')\n",
    "data['Género'] = data['Género'].astype('category')\n",
    "data['Indicador grupo terminal'] = data['Indicador grupo terminal'].astype('category')\n",
    "data['Profesor Titular'] = data['Profesor Titular'].astype('category')"
   ]
  }
 ],
 "metadata": {
  "kernelspec": {
   "display_name": "Python 3",
   "language": "python",
   "name": "python3"
  },
  "language_info": {
   "codemirror_mode": {
    "name": "ipython",
    "version": 3
   },
   "file_extension": ".py",
   "mimetype": "text/x-python",
   "name": "python",
   "nbconvert_exporter": "python",
   "pygments_lexer": "ipython3",
   "version": "3.6.8"
  }
 },
 "nbformat": 4,
 "nbformat_minor": 2
}
