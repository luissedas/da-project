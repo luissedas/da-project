{
 "cells": [
  {
   "cell_type": "markdown",
   "metadata": {},
   "source": [
    "# Functions Notebook"
   ]
  },
  {
   "cell_type": "code",
   "execution_count": 3,
   "metadata": {},
   "outputs": [],
   "source": [
    "def distribution_plot(dataframe,variable):\n",
    "    #plt.clf()\n",
    "    #fig, ax = plt.subplots(figsize=(10,5))\n",
    "    #ax.grid(False)\n",
    "    sns.kdeplot(dataframe['score'], label='Total', shade=True)\n",
    "    \n",
    "    for index,value in enumerate(dataframe[variable].unique()):\n",
    "        sns.kdeplot(dataframe[dataframe[variable] == value]['score'], label = value, shade=True)\n",
    "    plt.title('Score Distribution ' + '(' + variable + ')' )\n",
    "    #plt.show()"
   ]
  },
  {
   "cell_type": "code",
   "execution_count": null,
   "metadata": {},
   "outputs": [],
   "source": [
    "def removes_outliers(lower_percentage, upper_percentage,dataframe,column):\n",
    "    return dataframe[np.logical_and(data[column]>data[column].quantile(lower_percentage),data[column]<data[column].quantile(upper_percentage))]"
   ]
  },
  {
   "cell_type": "code",
   "execution_count": 4,
   "metadata": {},
   "outputs": [],
   "source": [
    "def correlations_barplot(y_index,values_cor,title):\n",
    "    plt.clf()\n",
    "    fig, ax = plt.subplots(figsize=(17,3))\n",
    "    sns.barplot(y = y_index, x = values_cor, orient='h')\n",
    "    plt.title(title)\n",
    "    plt.yticks(fontsize=10)\n",
    "    plt.show"
   ]
  }
 ],
 "metadata": {
  "kernelspec": {
   "display_name": "Python 3",
   "language": "python",
   "name": "python3"
  },
  "language_info": {
   "codemirror_mode": {
    "name": "ipython",
    "version": 3
   },
   "file_extension": ".py",
   "mimetype": "text/x-python",
   "name": "python",
   "nbconvert_exporter": "python",
   "pygments_lexer": "ipython3",
   "version": "3.6.8"
  }
 },
 "nbformat": 4,
 "nbformat_minor": 2
}
