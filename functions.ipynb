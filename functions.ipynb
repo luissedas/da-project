{
 "cells": [
  {
   "cell_type": "markdown",
   "metadata": {},
   "source": [
    "# Functions Notebook"
   ]
  },
  {
   "cell_type": "markdown",
   "metadata": {},
   "source": [
    "- Give the \"removes_outliers\" function the capacity of removing outliers on various functions"
   ]
  },
  {
   "cell_type": "code",
   "execution_count": 3,
   "metadata": {},
   "outputs": [],
   "source": [
    "def distribution_plot(dataframe,variable):\n",
    "    #plt.clf()\n",
    "    #fig, ax = plt.subplots(figsize=(10,5))\n",
    "    #ax.grid(False)\n",
    "    sns.kdeplot(dataframe['score'], label='Total', shade=True)\n",
    "    \n",
    "    for index,value in enumerate(dataframe[variable].unique()):\n",
    "        sns.kdeplot(dataframe[dataframe[variable] == value]['score'], label = value, shade=True)\n",
    "    plt.title('Score Distribution ' + '(' + variable + ')' )\n",
    "    #plt.show()"
   ]
  },
  {
   "cell_type": "code",
   "execution_count": null,
   "metadata": {},
   "outputs": [],
   "source": [
    "def pie_plot(dataframe,variable,sizes):\n",
    "    labels = dataframe[variable];\n",
    "    sizes = dataframe[sizes];\n",
    "    \n",
    "    plt.pie(sizes, labels = labels, autopct='%1.1f%%', shadow=True, startangle=90)\n",
    "    plt.title(variable)\n",
    "    plt.axis('equal')  # Equal aspect ratio ensures that pie is drawn as a circle."
   ]
  },
  {
   "cell_type": "code",
   "execution_count": null,
   "metadata": {},
   "outputs": [],
   "source": [
    "def grouping_df(dataframe,variable,count_variable):\n",
    "    new_dataframe = dataframe[[variable,count_variable]].groupby([variable],as_index=False).count().sort_values(by=[count_variable],ascending=False).reset_index(drop=True)\n",
    "    new_dataframe['porcentaje'] = new_dataframe[count_variable]/len(data)*100\n",
    "    return new_dataframe"
   ]
  },
  {
   "cell_type": "code",
   "execution_count": 3,
   "metadata": {},
   "outputs": [],
   "source": [
    "def removes_outliers(lower_percentage, upper_percentage, dataframe, column, one_column):\n",
    "    if one_column == True:\n",
    "        return dataframe[np.logical_and(dataframe[column]>dataframe[column].quantile(lower_percentage),dataframe[column]<dataframe[column].quantile(upper_percentage))]\n",
    "    else:\n",
    "        vec1 = pd.DataFrame(np.ones(len(dataframe),dtype=bool));\n",
    "        for i in dataframe._get_numeric_data().columns:\n",
    "            vec = np.logical_and(dataframe[i]>dataframe[i].quantile(lower_percentage),dataframe[i]<dataframe[i].quantile(upper_percentage))\n",
    "            vec1 = np.logical_and(vec,vec1[0]);\n",
    "        return dataframe[vec1]"
   ]
  },
  {
   "cell_type": "code",
   "execution_count": 4,
   "metadata": {},
   "outputs": [],
   "source": [
    "def correlations_barplot(y_index,values_cor,title):\n",
    "    #plt.clf()\n",
    "    #fig, ax = plt.subplots(figsize=(base,altura))\n",
    "    sns.barplot(y = y_index, x = values_cor, orient='h')\n",
    "    plt.title(title)\n",
    "    plt.yticks(fontsize=10)"
   ]
  },
  {
   "cell_type": "code",
   "execution_count": null,
   "metadata": {},
   "outputs": [],
   "source": [
    "def normalize(data):\n",
    "    return (data-np.mean(data))/np.std(data)"
   ]
  },
  {
   "cell_type": "code",
   "execution_count": null,
   "metadata": {},
   "outputs": [],
   "source": [
    "from sklearn.cluster import KMeans\n",
    "from sklearn.preprocessing import StandardScaler\n",
    "from sklearn.preprocessing import RobustScaler\n",
    "from sklearn import metrics\n",
    "from sklearn.cluster import KMeans\n",
    "from sklearn.cluster import MiniBatchKMeans"
   ]
  },
  {
   "cell_type": "code",
   "execution_count": 2,
   "metadata": {},
   "outputs": [],
   "source": [
    "def kmeans_cluster(a,b,X):\n",
    "    silhouettes = []\n",
    "    inertias = []\n",
    "    calinski = []\n",
    "\n",
    "    for i in range(2,13):\n",
    "        kmeans = KMeans(n_clusters=i).fit(X)\n",
    "        labels = kmeans.labels_\n",
    "        sil = metrics.silhouette_score(X, labels, metric='euclidean')\n",
    "        cal = metrics.calinski_harabaz_score(X, labels)\n",
    "        ine = kmeans.inertia_\n",
    "\n",
    "        silhouettes.append(sil) # Best when high\n",
    "        inertias.append(ine) # Best when low\n",
    "        calinski.append(cal) # Best when high\n",
    "        \n",
    "    return silhouettes,inertias,calinski"
   ]
  }
 ],
 "metadata": {
  "kernelspec": {
   "display_name": "Python 3",
   "language": "python",
   "name": "python3"
  },
  "language_info": {
   "codemirror_mode": {
    "name": "ipython",
    "version": 3
   },
   "file_extension": ".py",
   "mimetype": "text/x-python",
   "name": "python",
   "nbconvert_exporter": "python",
   "pygments_lexer": "ipython3",
   "version": "3.7.3"
  }
 },
 "nbformat": 4,
 "nbformat_minor": 2
}
